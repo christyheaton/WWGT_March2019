{
 "cells": [
  {
   "cell_type": "markdown",
   "metadata": {
    "slideshow": {
     "slide_type": "slide"
    }
   },
   "source": [
    "<h1><p style=\"display: block; text-align: center;\">Python Libraries for GIS and Jupyter Notebook as a Mapping Application</p></h1>\n",
    "\n",
    "<h3><p style=\"display: block; text-align: center;\">WA Women in GIS and Technology - Wed March 6, 2019</p></h3>\n",
    "\n",
    "<h5><p style=\"display: block; text-align: center;\">Christy Heaton</p></h5>"
   ]
  },
  {
   "cell_type": "markdown",
   "metadata": {
    "slideshow": {
     "slide_type": "subslide"
    }
   },
   "source": [
    "<h1><p style=\"display: block; text-align: center;\">About me</p></h1>"
   ]
  },
  {
   "cell_type": "markdown",
   "metadata": {
    "slideshow": {
     "slide_type": "subslide"
    }
   },
   "source": [
    "![title](img/FS_bio.PNG) "
   ]
  },
  {
   "cell_type": "markdown",
   "metadata": {
    "slideshow": {
     "slide_type": "subslide"
    }
   },
   "source": [
    "![title](img/maptimeseattle_website.PNG) \n",
    "\n",
    "Find us on [Meetup!](https://www.meetup.com/MaptimeSEA)"
   ]
  },
  {
   "cell_type": "markdown",
   "metadata": {
    "slideshow": {
     "slide_type": "slide"
    }
   },
   "source": [
    "# Outline"
   ]
  },
  {
   "cell_type": "markdown",
   "metadata": {
    "slideshow": {
     "slide_type": "fragment"
    }
   },
   "source": [
    "### Open Source vs. Proprietary"
   ]
  },
  {
   "cell_type": "markdown",
   "metadata": {
    "slideshow": {
     "slide_type": "fragment"
    }
   },
   "source": [
    "### Python"
   ]
  },
  {
   "cell_type": "markdown",
   "metadata": {
    "slideshow": {
     "slide_type": "fragment"
    }
   },
   "source": [
    "### Python and Esri"
   ]
  },
  {
   "cell_type": "markdown",
   "metadata": {
    "slideshow": {
     "slide_type": "fragment"
    }
   },
   "source": [
    "### Jupyter Notebook"
   ]
  },
  {
   "cell_type": "markdown",
   "metadata": {
    "slideshow": {
     "slide_type": "fragment"
    }
   },
   "source": [
    "### Fun Example"
   ]
  },
  {
   "cell_type": "markdown",
   "metadata": {
    "slideshow": {
     "slide_type": "slide"
    }
   },
   "source": [
    "# [Open Source vs. Proprietary](https://opensource.com/resources/what-open-source)"
   ]
  },
  {
   "cell_type": "markdown",
   "metadata": {
    "slideshow": {
     "slide_type": "slide"
    }
   },
   "source": [
    "# [Python](https://www.python.org/about/)"
   ]
  },
  {
   "cell_type": "markdown",
   "metadata": {
    "slideshow": {
     "slide_type": "slide"
    }
   },
   "source": [
    "# Python and Esri"
   ]
  },
  {
   "cell_type": "markdown",
   "metadata": {
    "slideshow": {
     "slide_type": "slide"
    }
   },
   "source": [
    "# [Jupyter Notebook](https://jupyter.org/)"
   ]
  },
  {
   "cell_type": "markdown",
   "metadata": {
    "slideshow": {
     "slide_type": "slide"
    }
   },
   "source": [
    "## This presentation is running inside of a Jupyter Notebook"
   ]
  },
  {
   "cell_type": "code",
   "execution_count": null,
   "metadata": {
    "slideshow": {
     "slide_type": "fragment"
    }
   },
   "outputs": [],
   "source": [
    "import platform\n",
    "print('Using Python version', platform.python_version())"
   ]
  },
  {
   "cell_type": "markdown",
   "metadata": {
    "slideshow": {
     "slide_type": "slide"
    }
   },
   "source": [
    "# Example using Python, GIS Libraries, and Jupyter"
   ]
  },
  {
   "cell_type": "markdown",
   "metadata": {
    "slideshow": {
     "slide_type": "slide"
    }
   },
   "source": [
    "# Spatial Problem: In what cities will we be able to see upcoming solar eclipses?"
   ]
  },
  {
   "cell_type": "markdown",
   "metadata": {
    "slideshow": {
     "slide_type": "subslide"
    }
   },
   "source": [
    "![title](img/Christy_eclipse.jpg)"
   ]
  },
  {
   "cell_type": "markdown",
   "metadata": {
    "slideshow": {
     "slide_type": "subslide"
    }
   },
   "source": [
    "![title](img/_alignment-lines-720.png)"
   ]
  },
  {
   "cell_type": "markdown",
   "metadata": {
    "slideshow": {
     "slide_type": "subslide"
    }
   },
   "source": [
    "![title](img/Corona-2017-Aug-21-m.jpg)"
   ]
  },
  {
   "cell_type": "markdown",
   "metadata": {
    "slideshow": {
     "slide_type": "subslide"
    }
   },
   "source": [
    "### We can use Python and Jupyter to find out:\n",
    "\n",
    "1.  When and where will we be able to see an eclipse?\n",
    "\n",
    "2.  Which upcoming eclipse will pass over the most people?\n",
    "\n",
    "3.  What are the largest cities in that eclipse?\n"
   ]
  },
  {
   "cell_type": "markdown",
   "metadata": {
    "slideshow": {
     "slide_type": "slide"
    }
   },
   "source": [
    "# Python Mapping Libraries"
   ]
  },
  {
   "cell_type": "markdown",
   "metadata": {
    "slideshow": {
     "slide_type": "subslide"
    }
   },
   "source": [
    "## [Matplotlib](https://matplotlib.org/)\n",
    "\n",
    "#### A Python plotting library which produces publication quality maps and diagrams in both static and interactive formats. "
   ]
  },
  {
   "cell_type": "code",
   "execution_count": null,
   "metadata": {
    "slideshow": {
     "slide_type": "fragment"
    }
   },
   "outputs": [],
   "source": [
    "%matplotlib inline\n",
    "import matplotlib.pyplot as plt"
   ]
  },
  {
   "cell_type": "markdown",
   "metadata": {
    "slideshow": {
     "slide_type": "subslide"
    }
   },
   "source": [
    "## [Pandas](https://pandas.pydata.org/)\n",
    "\n",
    "#### Provides high-performance, easy-to-use data structures and data analysis tools\n",
    "\n",
    "## [GeoPandas](http://geopandas.org/)\n",
    "\n",
    "#### Geographically-enabled Pandas, depends on [Shapely](https://github.com/Toblerity/Shapely) for manipulation and analysis of planar geometric objects"
   ]
  },
  {
   "cell_type": "code",
   "execution_count": null,
   "metadata": {
    "slideshow": {
     "slide_type": "fragment"
    }
   },
   "outputs": [],
   "source": [
    "import pandas as pd\n",
    "import geopandas as gpd"
   ]
  },
  {
   "cell_type": "markdown",
   "metadata": {
    "slideshow": {
     "slide_type": "slide"
    }
   },
   "source": [
    "# Let's Start by Making a Simple Map"
   ]
  },
  {
   "cell_type": "code",
   "execution_count": null,
   "metadata": {
    "slideshow": {
     "slide_type": "subslide"
    }
   },
   "outputs": [],
   "source": [
    "# GeoPandas comes with some data that we can quickly load in\n",
    "world = gpd.read_file(gpd.datasets.get_path('naturalearth_lowres'))"
   ]
  },
  {
   "cell_type": "code",
   "execution_count": null,
   "metadata": {
    "slideshow": {
     "slide_type": "fragment"
    }
   },
   "outputs": [],
   "source": [
    "# And check out the top few rows - notice it comes with attributes like population and GDP, \n",
    "# as well as geometry \n",
    "world.head()"
   ]
  },
  {
   "cell_type": "code",
   "execution_count": null,
   "metadata": {
    "slideshow": {
     "slide_type": "fragment"
    }
   },
   "outputs": [],
   "source": [
    "world.crs"
   ]
  },
  {
   "cell_type": "code",
   "execution_count": null,
   "metadata": {
    "slideshow": {
     "slide_type": "subslide"
    }
   },
   "outputs": [],
   "source": [
    "# Use the plot method to view the spatial component\n",
    "world.plot()"
   ]
  },
  {
   "cell_type": "code",
   "execution_count": null,
   "metadata": {
    "slideshow": {
     "slide_type": "subslide"
    }
   },
   "outputs": [],
   "source": [
    "# You'll usually want to customize how your map looks\n",
    "world.plot(color='grey', linewidth=0.5, edgecolor='white', figsize=(15,10))"
   ]
  },
  {
   "cell_type": "code",
   "execution_count": null,
   "metadata": {
    "slideshow": {
     "slide_type": "subslide"
    }
   },
   "outputs": [],
   "source": [
    "# We'll need to load in some local data\n",
    "import os\n",
    "data_pth = \"../Data/\" "
   ]
  },
  {
   "cell_type": "code",
   "execution_count": null,
   "metadata": {
    "slideshow": {
     "slide_type": "subslide"
    }
   },
   "outputs": [],
   "source": [
    "# GeoPandas comes with city data, but its just the capital cities, so I'll load in my own\n",
    "cities = gpd.read_file(os.path.join(data_pth, \"ne_10m_populated_places.shp\"))"
   ]
  },
  {
   "cell_type": "code",
   "execution_count": null,
   "metadata": {
    "slideshow": {
     "slide_type": "fragment"
    }
   },
   "outputs": [],
   "source": [
    "# View the top few rows\n",
    "cities.head()"
   ]
  },
  {
   "cell_type": "code",
   "execution_count": null,
   "metadata": {
    "slideshow": {
     "slide_type": "fragment"
    }
   },
   "outputs": [],
   "source": [
    "cities.crs"
   ]
  },
  {
   "cell_type": "code",
   "execution_count": null,
   "metadata": {
    "slideshow": {
     "slide_type": "subslide"
    }
   },
   "outputs": [],
   "source": [
    "# And plot to view the spatial component\n",
    "cities.plot(figsize=(15,10), color='orange', markersize=5)"
   ]
  },
  {
   "cell_type": "code",
   "execution_count": null,
   "metadata": {
    "slideshow": {
     "slide_type": "subslide"
    }
   },
   "outputs": [],
   "source": [
    "world.crs == cities.crs"
   ]
  },
  {
   "cell_type": "code",
   "execution_count": null,
   "metadata": {
    "slideshow": {
     "slide_type": "fragment"
    }
   },
   "outputs": [],
   "source": [
    "base = world.plot(color='grey', linewidth=0.5, edgecolor='white', figsize=(15,10))\n",
    "cities.plot(ax=base, color='orange', markersize=5)\n",
    "base.set_axis_off() "
   ]
  },
  {
   "cell_type": "markdown",
   "metadata": {
    "slideshow": {
     "slide_type": "subslide"
    }
   },
   "source": [
    "### What do we want to know?\n",
    "\n",
    "1.  When and where will we be able to see an eclipse?\n"
   ]
  },
  {
   "cell_type": "code",
   "execution_count": null,
   "metadata": {
    "slideshow": {
     "slide_type": "subslide"
    }
   },
   "outputs": [],
   "source": [
    "# Load in Eclipse data\n",
    "eclipses = gpd.read_file(os.path.join(data_pth, \"Eclipses.shp\"))"
   ]
  },
  {
   "cell_type": "code",
   "execution_count": null,
   "metadata": {
    "slideshow": {
     "slide_type": "fragment"
    }
   },
   "outputs": [],
   "source": [
    "# Examine the first few rows\n",
    "eclipses.head()"
   ]
  },
  {
   "cell_type": "code",
   "execution_count": null,
   "metadata": {
    "slideshow": {
     "slide_type": "fragment"
    }
   },
   "outputs": [],
   "source": [
    "# Check the coorindate reference system\n",
    "eclipses.crs"
   ]
  },
  {
   "cell_type": "code",
   "execution_count": null,
   "metadata": {
    "slideshow": {
     "slide_type": "subslide"
    }
   },
   "outputs": [],
   "source": [
    "# And let's plot with a customized style\n",
    "eclipses.plot(figsize=(15,10), color='black', edgecolor='yellow', alpha=0.75)"
   ]
  },
  {
   "cell_type": "code",
   "execution_count": null,
   "metadata": {
    "slideshow": {
     "slide_type": "subslide"
    }
   },
   "outputs": [],
   "source": [
    "# GeoPandas let's you plot the minimum bounding box of each entity\n",
    "eclipses.envelope.plot(figsize=(15,10))"
   ]
  },
  {
   "cell_type": "code",
   "execution_count": null,
   "metadata": {
    "slideshow": {
     "slide_type": "subslide"
    }
   },
   "outputs": [],
   "source": [
    "# Let's plot the eclipses on top of our world data\n",
    "base = world.plot(color='lightgrey', linewidth=0.5, edgecolor='white', figsize=(15,10))\n",
    "eclipses.plot(ax=base, color='black', edgecolor='yellow', alpha=0.75)\n",
    "base.set_axis_off()"
   ]
  },
  {
   "cell_type": "code",
   "execution_count": null,
   "metadata": {
    "slideshow": {
     "slide_type": "subslide"
    }
   },
   "outputs": [],
   "source": [
    "# But how do we know which is which?\n",
    "base = world.plot(color='lightgrey', linewidth=0.5, edgecolor='white', figsize=(15,10))\n",
    "\n",
    "# We can add a catetorical value and set the column to Year. We can also add a legend.\n",
    "eclipses.plot(ax=base, cmap='tab10', alpha=0.5, categorical = True, column = \"Year\", legend=True)\n",
    "base.set_axis_off()\n",
    "base.get_legend().set_bbox_to_anchor((.05,.7))"
   ]
  },
  {
   "cell_type": "markdown",
   "metadata": {
    "slideshow": {
     "slide_type": "subslide"
    }
   },
   "source": [
    "### What do we want to know?\n",
    "\n",
    "1.  When and where will we be able to see an eclipse?\n",
    "\n",
    "2.  What upcoming eclipse will pass over the most people?"
   ]
  },
  {
   "cell_type": "code",
   "execution_count": null,
   "metadata": {
    "slideshow": {
     "slide_type": "subslide"
    }
   },
   "outputs": [],
   "source": [
    "# Is the cities data still in the same crs as the eclipse data? It needs to be to plot correctly!\n",
    "world.crs == eclipses.crs == cities.crs"
   ]
  },
  {
   "cell_type": "code",
   "execution_count": null,
   "metadata": {
    "slideshow": {
     "slide_type": "fragment"
    }
   },
   "outputs": [],
   "source": [
    "# Now we'll plot our basemap, our eclipse paths, and our cities\n",
    "base = world.plot(color='lightgrey', linewidth=0.5, edgecolor='white', figsize=(15,10))\n",
    "eclipses.plot(ax=base, color='black', edgecolor='yellow', alpha=0.75)\n",
    "cities.plot(ax=base, color='orange', markersize=5)\n",
    "base.set_axis_off()"
   ]
  },
  {
   "cell_type": "code",
   "execution_count": null,
   "metadata": {
    "slideshow": {
     "slide_type": "subslide"
    }
   },
   "outputs": [],
   "source": [
    "# Start by getting all the cities that intersect any eclipse, a spatial join using the geom column\n",
    "allecities = gpd.sjoin(cities, eclipses, how='inner', op='intersects')"
   ]
  },
  {
   "cell_type": "code",
   "execution_count": null,
   "metadata": {
    "slideshow": {
     "slide_type": "fragment"
    }
   },
   "outputs": [],
   "source": [
    "allecities.head()"
   ]
  },
  {
   "cell_type": "code",
   "execution_count": null,
   "metadata": {
    "slideshow": {
     "slide_type": "fragment"
    }
   },
   "outputs": [],
   "source": [
    "allecities = pd.DataFrame(allecities[['POP', 'Year']])"
   ]
  },
  {
   "cell_type": "code",
   "execution_count": null,
   "metadata": {
    "slideshow": {
     "slide_type": "fragment"
    }
   },
   "outputs": [],
   "source": [
    "allecities.head()"
   ]
  },
  {
   "cell_type": "code",
   "execution_count": null,
   "metadata": {
    "slideshow": {
     "slide_type": "subslide"
    }
   },
   "outputs": [],
   "source": [
    "# Create a temporary variable to hold our years and populations\n",
    "temp_group = allecities.groupby(['Year'])[[\"POP\"]].sum()"
   ]
  },
  {
   "cell_type": "code",
   "execution_count": null,
   "metadata": {
    "slideshow": {
     "slide_type": "fragment"
    }
   },
   "outputs": [],
   "source": [
    "temp_group"
   ]
  },
  {
   "cell_type": "code",
   "execution_count": null,
   "metadata": {
    "slideshow": {
     "slide_type": "subslide"
    }
   },
   "outputs": [],
   "source": [
    "# Add that column to our eclipse data, joining on the Year column\n",
    "eclipses_pop = pd.merge(eclipses, temp_group, left_on='Year', right_index=True)"
   ]
  },
  {
   "cell_type": "code",
   "execution_count": null,
   "metadata": {
    "slideshow": {
     "slide_type": "fragment"
    }
   },
   "outputs": [],
   "source": [
    "# Now we have populations associated with each eclipse\n",
    "eclipses_pop.head()"
   ]
  },
  {
   "cell_type": "code",
   "execution_count": null,
   "metadata": {
    "slideshow": {
     "slide_type": "subslide"
    }
   },
   "outputs": [],
   "source": [
    "# Sort the results to find out which eclipse will cover the most people\n",
    "eclipses_pop.sort_values('POP', ascending = False)"
   ]
  },
  {
   "cell_type": "code",
   "execution_count": null,
   "metadata": {
    "slideshow": {
     "slide_type": "subslide"
    }
   },
   "outputs": [],
   "source": [
    "# Let's plot this\n",
    "base = world.plot(color='lightgrey', linewidth=0.5, edgecolor='white', figsize=(15,10))\n",
    "eclipses_pop.plot(ax=base, cmap='Oranges', alpha=0.5, column = \"POP\")\n",
    "base.set_axis_off()"
   ]
  },
  {
   "cell_type": "code",
   "execution_count": null,
   "metadata": {
    "slideshow": {
     "slide_type": "subslide"
    }
   },
   "outputs": [],
   "source": [
    "# As we saw earlier, this eclipse is happening in 2024\n",
    "base = world.plot(color='lightgrey', linewidth=0.5, edgecolor='white', figsize=(15,10))\n",
    "eclipses.plot(ax=base, cmap='tab10', alpha=0.5, categorical = True, column = \"Year\", legend=True)\n",
    "base.set_axis_off()\n",
    "base.get_legend().set_bbox_to_anchor((.05,.7))"
   ]
  },
  {
   "cell_type": "markdown",
   "metadata": {
    "slideshow": {
     "slide_type": "subslide"
    }
   },
   "source": [
    "### What do we want to know?\n",
    "\n",
    "1.  When and where will we be able to see an eclipse?\n",
    "\n",
    "2.  What upcoming eclipse will pass over the most people?\n",
    "\n",
    "3.  What are the largest cities in that eclipse?\n"
   ]
  },
  {
   "cell_type": "code",
   "execution_count": null,
   "metadata": {
    "slideshow": {
     "slide_type": "subslide"
    }
   },
   "outputs": [],
   "source": [
    "# Let's assign the 2024 eclipse to its own variable\n",
    "myeclipse = eclipses[(eclipses['Year'] == 2024)]"
   ]
  },
  {
   "cell_type": "code",
   "execution_count": null,
   "metadata": {
    "slideshow": {
     "slide_type": "fragment"
    }
   },
   "outputs": [],
   "source": [
    "# Let's plot it \n",
    "base = world.plot(color='lightgrey', linewidth=0.5, edgecolor='white', figsize=(15,10))\n",
    "myeclipse.plot(ax=base, color='black', edgecolor='yellow', alpha=0.75)\n",
    "cities.plot(marker='*', color='orange', markersize=5, ax=base)\n",
    "base.set_axis_off()"
   ]
  },
  {
   "cell_type": "code",
   "execution_count": null,
   "metadata": {
    "slideshow": {
     "slide_type": "subslide"
    }
   },
   "outputs": [],
   "source": [
    "# Plot again, but this time I want to zoom in on that eclipse path\n",
    "base = world.plot(color='lightgrey', linewidth=0.5, edgecolor='white', figsize=(15,10))\n",
    "myeclipse.plot(ax=base, color='black', edgecolor='yellow', alpha=0.75)\n",
    "cities.plot(marker='*', color='orange', markersize=5, ax=base)\n",
    "bounds = myeclipse.geometry.bounds\n",
    "plt.xlim([bounds.minx.min()-5, bounds.maxx.max()+5])\n",
    "plt.ylim([bounds.miny.min()-5, bounds.maxy.max()+5])\n",
    "base.set_axis_off()"
   ]
  },
  {
   "cell_type": "code",
   "execution_count": null,
   "metadata": {
    "slideshow": {
     "slide_type": "subslide"
    }
   },
   "outputs": [],
   "source": [
    "# Let's style the plot so that the eclipse looks eclipse-ier\n",
    "base = world.plot(color='lightgray', linewidth=0.5, edgecolor='white', figsize=(15,10))\n",
    "myeclipse.plot(ax=base, color='black', edgecolor='yellow', alpha=0.75)\n",
    "cities.plot(ax=base, color='black', markersize=20, edgecolor='white')\n",
    "bounds = myeclipse.geometry.bounds\n",
    "plt.xlim([bounds.minx.min()-5, bounds.maxx.max()+5])\n",
    "plt.ylim([bounds.miny.min()-5, bounds.maxy.max()+5])\n",
    "base.set_axis_off()"
   ]
  },
  {
   "cell_type": "code",
   "execution_count": null,
   "metadata": {
    "slideshow": {
     "slide_type": "subslide"
    }
   },
   "outputs": [],
   "source": [
    "# We can see that there are quite a few cities that intersect my path! But we want to know which ones.\n",
    "# Do a spatial join to get the intersection\n",
    "ecities = gpd.sjoin(cities, myeclipse, how='inner', op='intersects')"
   ]
  },
  {
   "cell_type": "code",
   "execution_count": null,
   "metadata": {
    "slideshow": {
     "slide_type": "fragment"
    }
   },
   "outputs": [],
   "source": [
    "# Let's plot the results!\n",
    "base = world.plot(color='lightgray', linewidth=0.5, edgecolor='white', figsize=(15,10))\n",
    "myeclipse.plot(ax=base, color='black', edgecolor='yellow', alpha=0.75)\n",
    "ecities.plot(ax=base, color='black', markersize=20, edgecolor='white')\n",
    "bounds = myeclipse.geometry.bounds\n",
    "plt.xlim([bounds.minx.min()-5, bounds.maxx.max()+5])\n",
    "plt.ylim([bounds.miny.min()-5, bounds.maxy.max()+5])\n",
    "base.set_axis_off()"
   ]
  },
  {
   "cell_type": "code",
   "execution_count": null,
   "metadata": {
    "slideshow": {
     "slide_type": "subslide"
    }
   },
   "outputs": [],
   "source": [
    "base = world.plot(color='lightgray', linewidth=0.5, edgecolor='white', figsize=(15,10))\n",
    "myeclipse.plot(ax=base, color='black', edgecolor='yellow', alpha=0.75)\n",
    "ecities.plot(ax=base, color='black', edgecolor='white', markersize=cities['POP']/1000)\n",
    "bounds = myeclipse.geometry.bounds\n",
    "plt.xlim([bounds.minx.min()-5, bounds.maxx.max()+5])\n",
    "plt.ylim([bounds.miny.min()-5, bounds.maxy.max()+5])\n",
    "base.set_axis_off()"
   ]
  },
  {
   "cell_type": "code",
   "execution_count": null,
   "metadata": {
    "slideshow": {
     "slide_type": "subslide"
    }
   },
   "outputs": [],
   "source": [
    "print('Wow! There are {} cities in the eclipse path!'.format(len(ecities)))\n",
    "print(\"Here are the largest 5:\")\n",
    "print(ecities.sort_values('POP', ascending = False)['NAME'].head(5))"
   ]
  },
  {
   "cell_type": "code",
   "execution_count": null,
   "metadata": {
    "slideshow": {
     "slide_type": "subslide"
    }
   },
   "outputs": [],
   "source": [
    "top_five = ecities.sort_values('POP', ascending = False)[:5]"
   ]
  },
  {
   "cell_type": "code",
   "execution_count": null,
   "metadata": {
    "slideshow": {
     "slide_type": "fragment"
    }
   },
   "outputs": [],
   "source": [
    "base = world.plot(color='lightgray', linewidth=0.5, edgecolor='white', figsize=(15,10))\n",
    "myeclipse.plot(ax=base, color='black', edgecolor='yellow', alpha=0.25)\n",
    "top_five.plot(ax=base, color='black', edgecolor='white', markersize=cities['POP']/400)\n",
    "for x, y, label in zip(top_five.geometry.x, top_five.geometry.y, top_five.NAME):\n",
    "    base.annotate(label, xy=(x, y), xytext=(3, 3), textcoords=\"offset points\")\n",
    "bounds = myeclipse.geometry.bounds\n",
    "plt.xlim([bounds.minx.min()-5, bounds.maxx.max()+5])\n",
    "plt.ylim([bounds.miny.min()-5, bounds.maxy.max()+5])\n",
    "base.set_axis_off()"
   ]
  },
  {
   "cell_type": "markdown",
   "metadata": {
    "slideshow": {
     "slide_type": "subslide"
    }
   },
   "source": [
    "# Bonus: Make it Slippy"
   ]
  },
  {
   "cell_type": "markdown",
   "metadata": {
    "slideshow": {
     "slide_type": "subslide"
    }
   },
   "source": [
    "## [Folium](https://python-visualization.github.io/folium/)\n",
    "\n",
    "#### Binds the power of Python with leaflet.js"
   ]
  },
  {
   "cell_type": "code",
   "execution_count": null,
   "metadata": {
    "slideshow": {
     "slide_type": "fragment"
    }
   },
   "outputs": [],
   "source": [
    "import folium"
   ]
  },
  {
   "cell_type": "code",
   "execution_count": null,
   "metadata": {
    "scrolled": true,
    "slideshow": {
     "slide_type": "subslide"
    }
   },
   "outputs": [],
   "source": [
    "Seattle = [47.61, -122.33]\n",
    "\n",
    "osm_map = folium.Map(location=Seattle, zoom_start=10)\n",
    "osm_map"
   ]
  },
  {
   "cell_type": "code",
   "execution_count": null,
   "metadata": {
    "slideshow": {
     "slide_type": "subslide"
    }
   },
   "outputs": [],
   "source": [
    "map_stamen_toner = folium.Map(\n",
    "    location=Seattle,\n",
    "    tiles='stamentoner',\n",
    "    zoom_start=10\n",
    ")\n",
    "map_stamen_toner"
   ]
  },
  {
   "cell_type": "code",
   "execution_count": null,
   "metadata": {
    "slideshow": {
     "slide_type": "subslide"
    }
   },
   "outputs": [],
   "source": [
    "map_stamen_water = folium.Map(\n",
    "    location=Seattle,\n",
    "    tiles='stamenwatercolor',\n",
    "    zoom_start=10\n",
    ")\n",
    "map_stamen_water"
   ]
  },
  {
   "cell_type": "code",
   "execution_count": null,
   "metadata": {
    "slideshow": {
     "slide_type": "subslide"
    }
   },
   "outputs": [],
   "source": [
    "# Let's find the centroid of the eclipse we chose, so that we can center our folum map on it\n",
    "x = myeclipse.centroid.x.values[0]\n",
    "y = myeclipse.centroid.y.values[0]\n",
    "print('y: ' + str(y) + ', x: ' + str(x))"
   ]
  },
  {
   "cell_type": "code",
   "execution_count": null,
   "metadata": {
    "slideshow": {
     "slide_type": "subslide"
    }
   },
   "outputs": [],
   "source": [
    "map_stamen_water = folium.Map(\n",
    "    location=[y,x],\n",
    "    tiles='stamenwatercolor',\n",
    "    zoom_start=3\n",
    ")\n",
    "\n",
    "folium.GeoJson(top_five,name='Eclipse Cities').add_to(map_stamen_water)\n",
    "folium.GeoJson(myeclipse,name='Eclipse Path').add_to(map_stamen_water)\n",
    "\n",
    "folium.LayerControl().add_to(map_stamen_water)"
   ]
  },
  {
   "cell_type": "code",
   "execution_count": null,
   "metadata": {
    "slideshow": {
     "slide_type": "subslide"
    }
   },
   "outputs": [],
   "source": [
    "map_stamen_water"
   ]
  },
  {
   "cell_type": "code",
   "execution_count": null,
   "metadata": {
    "slideshow": {
     "slide_type": "subslide"
    }
   },
   "outputs": [],
   "source": [
    "# You can write a function that creates a map with all of your properties\n",
    "# This one creates popups for your cities\n",
    "\n",
    "def plot_city_pop(top_five, myeclipse):\n",
    "    # generate a new map\n",
    "    folium_map = folium.Map(location=[y, x], zoom_start=3, tiles=\"stamenwatercolor\")\n",
    "    folium.GeoJson(myeclipse,name='Eclipse Path').add_to(folium_map)\n",
    "    # for each row in the data, add a cicle marker\n",
    "    for index, row in top_five.iterrows():\n",
    "        \n",
    "        # generate the popup message that is shown on click.\n",
    "        popup_text = \"Name: {}<br> Pop: {}\"\n",
    "        popup_text = popup_text.format(row[\"NAME\"], row[\"POP\"])\n",
    "        \n",
    "        folium.CircleMarker(location=\n",
    "                            (row['geometry'].y, row['geometry'].x),\n",
    "                            radius=6,popup=popup_text,fill=True).add_to(folium_map)        \n",
    "\n",
    "    # Add a layer control if you like\n",
    "    folium.LayerControl().add_to(folium_map)\n",
    "    \n",
    "    return folium_map"
   ]
  },
  {
   "cell_type": "code",
   "execution_count": null,
   "metadata": {
    "slideshow": {
     "slide_type": "subslide"
    }
   },
   "outputs": [],
   "source": [
    "# Call the function to create the map\n",
    "plot_city_pop(top_five, myeclipse)"
   ]
  },
  {
   "cell_type": "markdown",
   "metadata": {
    "slideshow": {
     "slide_type": "slide"
    }
   },
   "source": [
    "# Python, Jupyter, and Esri can work together!\n",
    "\n",
    "### [Esri and Jupyter](https://notebooks.esri.com/user/vS9Rtz9xuzE8lsZGtZNXRQoPN/tree/samples)"
   ]
  },
  {
   "cell_type": "markdown",
   "metadata": {
    "slideshow": {
     "slide_type": "slide"
    }
   },
   "source": [
    "# Thank you!"
   ]
  }
 ],
 "metadata": {
  "celltoolbar": "Slideshow",
  "kernelspec": {
   "display_name": "Python 3",
   "language": "python",
   "name": "python3"
  },
  "language_info": {
   "codemirror_mode": {
    "name": "ipython",
    "version": 3
   },
   "file_extension": ".py",
   "mimetype": "text/x-python",
   "name": "python",
   "nbconvert_exporter": "python",
   "pygments_lexer": "ipython3",
   "version": "3.7.1"
  }
 },
 "nbformat": 4,
 "nbformat_minor": 2
}
